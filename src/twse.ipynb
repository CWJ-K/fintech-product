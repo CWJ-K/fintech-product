{
 "cells": [
  {
   "cell_type": "code",
   "execution_count": 1,
   "id": "76051795",
   "metadata": {
    "ExecuteTime": {
     "end_time": "2022-05-27T12:02:35.214817Z",
     "start_time": "2022-05-27T12:02:34.817607Z"
    }
   },
   "outputs": [],
   "source": [
    "import datetime \n",
    "import sys\n",
    "import time\n",
    "from typing import List, Tuple\n",
    "\n",
    "import pandas as pd\n",
    "import requests \n",
    "from loguru import logger\n",
    "from pydantic import BaseModel\n",
    "from json import JSONDecodeError\n",
    "import json\n",
    "\n",
    "import numpy as np"
   ]
  },
  {
   "cell_type": "markdown",
   "id": "e8eb7ca4",
   "metadata": {},
   "source": [
    "# Main"
   ]
  },
  {
   "cell_type": "markdown",
   "id": "18be21ad",
   "metadata": {},
   "source": [
    "## generate_dates_in_a_period"
   ]
  },
  {
   "cell_type": "code",
   "execution_count": 2,
   "id": "0f62aed9",
   "metadata": {
    "ExecuteTime": {
     "end_time": "2022-05-27T12:02:35.222197Z",
     "start_time": "2022-05-27T12:02:35.217239Z"
    }
   },
   "outputs": [],
   "source": [
    "class Period:\n",
    "    def __init__(self, start_date, end_date):\n",
    "        self.start_date = start_date\n",
    "        self.end_date = end_date\n",
    "\n",
    "    def generate_dates_in_a_period(self) -> List[str]:\n",
    "        return pd.date_range(self.start_date, self.end_date).astype(str).tolist()"
   ]
  },
  {
   "cell_type": "markdown",
   "id": "18dfea8d",
   "metadata": {
    "ExecuteTime": {
     "end_time": "2022-05-26T10:23:12.997890Z",
     "start_time": "2022-05-26T10:23:12.994319Z"
    }
   },
   "source": [
    "## crawler_twse_new"
   ]
  },
  {
   "cell_type": "markdown",
   "id": "0e4cbaad",
   "metadata": {},
   "source": [
    "### daily_data"
   ]
  },
  {
   "cell_type": "code",
   "execution_count": 3,
   "id": "badab576",
   "metadata": {
    "ExecuteTime": {
     "end_time": "2022-05-27T12:02:35.238062Z",
     "start_time": "2022-05-27T12:02:35.226099Z"
    }
   },
   "outputs": [],
   "source": [
    "class DataSectionAfter20110731:\n",
    "    def __init__(self):\n",
    "        self.section_name = 'data9'\n",
    "        self.columns_name = 'fields9'\n",
    "\n",
    "\n",
    "class DataSectionBy20110731:\n",
    "    def __init__(self):\n",
    "        self.section_name = 'data8'\n",
    "        self.columns_name = 'fields8'\n",
    "\n",
    "\n",
    "class TWSEWeb:\n",
    "    def __init__(self, date):\n",
    "        self.date = self.remove_hypens(date)\n",
    "\n",
    "    def remove_hypens(self, date):\n",
    "        return date.replace('-', '')\n",
    "    \n",
    "    @property\n",
    "    def url(self):\n",
    "        return (\n",
    "            'https://www.twse.com.tw/exchangeReport/MI_INDEX'\n",
    "            f'?response=json&date={self.date}&type=ALL'\n",
    "        )\n",
    "    \n",
    "    @property\n",
    "    def request_header(self):\n",
    "        return {\n",
    "            \"Accept\": \"application/json, text/javascript, */*; q=0.01\",\n",
    "            \"Accept-Encoding\": \"gzip, deflate\",\n",
    "            \"Accept-Language\": \"zh-TW,zh;q=0.9,en-US;q=0.8,en;q=0.7\",\n",
    "            \"Connection\": \"keep-alive\",\n",
    "            \"Host\": \"www.twse.com.tw\",\n",
    "            \"Referer\": \"https://www.twse.com.tw/zh/page/trading/exchange/MI_INDEX.html\",\n",
    "            \"User-Agent\": \"Mozilla/5.0 (Windows NT 10.0; Win64; x64) AppleWebKit/537.36 (KHTML, like Gecko) Chrome/71.0.3578.98 Safari/537.36\",\n",
    "            \"X-Requested-With\": \"XMLHttpRequest\",\n",
    "        }\n",
    "    \n",
    "    def request_web_content(self):\n",
    "        time.sleep(10)\n",
    "        web_contents = requests.get(\n",
    "            self.url, headers=self.request_header\n",
    "        )\n",
    "        return web_contents\n",
    "    \n",
    "    def get_required_information_based_on_date(self) -> Tuple[str, str]:\n",
    "        if self.date > '20110731':\n",
    "            data_section = DataSectionAfter20110731()\n",
    "        elif self.date <= '2011731' and self.date >= '20040211':\n",
    "            data_section = DataSectionBy20110731()       \n",
    "\n",
    "        return data_section.section_name, data_section.columns_name\n",
    "    \n",
    "def get_TWSE_daily_raw_data(date):\n",
    "    web_response = TWSEWeb(date).request_web_content()\n",
    "    web_contents = web_response.json()\n",
    "    section_name, columns_name = TWSEWeb(date).get_required_information_based_on_date()\n",
    "    data = pd.DataFrame(web_contents[str(section_name)])\n",
    "    columns = web_contents[str(columns_name)]\n",
    "    report = {'data': data, 'columns': columns, 'date': date}\n",
    "    logger.info(f'1 status_code:{web_response.status_code}')\n",
    "    return report"
   ]
  },
  {
   "cell_type": "markdown",
   "id": "e0105707",
   "metadata": {},
   "source": [
    "### Report"
   ]
  },
  {
   "cell_type": "code",
   "execution_count": 4,
   "id": "fe176463",
   "metadata": {
    "ExecuteTime": {
     "end_time": "2022-05-27T12:02:35.259301Z",
     "start_time": "2022-05-27T12:02:35.240846Z"
    }
   },
   "outputs": [],
   "source": [
    "class StockSchema(BaseModel):\n",
    "    StockID: str\n",
    "    TradeVolume: int\n",
    "    Transaction: int\n",
    "    TradeValue: int\n",
    "    Open: float\n",
    "    Max: float\n",
    "    Min: float\n",
    "    Close: float\n",
    "    Change: float\n",
    "    date: str\n",
    "\n",
    "class Report:\n",
    "    def __init__(self, daily_raw_data):\n",
    "        self.data = daily_raw_data['data']\n",
    "        self.columns = daily_raw_data['columns']\n",
    "        self.date = daily_raw_data['date']\n",
    "        \n",
    "    def translate_Chinese_columns_into_English(self):\n",
    "        TRANSLATION_TABLE = {\n",
    "            '證券代號': 'StockID',\n",
    "            '證券名稱': 'StockName', #\n",
    "            '成交股數': 'TradeVolume',\n",
    "            '成交筆數': 'Transaction',\n",
    "            '成交金額': 'TradeValue',\n",
    "            '開盤價': 'Open',\n",
    "            '最高價': 'Max',\n",
    "            '最低價': 'Min',\n",
    "            '收盤價': 'Close',\n",
    "            '漲跌(+/-)': 'Dir',\n",
    "            '漲跌價差': 'Change',\n",
    "            '最後揭示買價': 'LastBestBidPrice', #\n",
    "            '最後揭示買量': 'LastBestBidVolume', #\n",
    "            '最後揭示賣價': 'LastBestAskPrice', #\n",
    "            '最後揭示賣量': 'LastBestAskVolume', #\n",
    "            '本益比': 'PriceEarningRatio', #\n",
    "        }\n",
    "\n",
    "        english_columns_name = [TRANSLATION_TABLE[chinese_column] for chinese_column in self.columns]\n",
    "        self.data.columns = english_columns_name\n",
    "        return self\n",
    "    \n",
    "    def parse_dir_symbol(self):\n",
    "        self.data['Dir'] = self.data['Dir'].str.extract(r'\\>(.*?)\\<')\n",
    "        return self\n",
    "    \n",
    "    def add_minus_dir_symbol_to_change(self):\n",
    "        self.data[\"Change\"] = np.where(self.data['Dir']=='-', '-'+self.data['Change'], self.data['Change'])\n",
    "        return self\n",
    "    \n",
    "    def replace_hypens_to_not_applicable(self):\n",
    "        column_with_hypens = ['Open', 'Max', 'Min', 'Close']\n",
    "        for column in column_with_hypens:\n",
    "            self.data[column] = self.data[column].str.replace('--', '0')\n",
    "        return self\n",
    "    \n",
    "    def remove_comma_in_numbers(self):\n",
    "        self.data = self.data.replace(',', \"\", regex=True)\n",
    "        return self\n",
    "    \n",
    "    def remove_unused_information(self):\n",
    "        unused_information = ['StockName', 'LastBestBidPrice', 'LastBestBidVolume', 'LastBestAskPrice', 'LastBestAskVolume', 'PriceEarningRatio', 'Dir']\n",
    "        self.data = self.data.drop(unused_information, axis=1)\n",
    "        return self\n",
    "    \n",
    "    def add_date(self):\n",
    "        self.data['date'] = self.date\n",
    "        return self\n",
    "\n",
    "        \n",
    "def create_daily_report(daily_raw_data):\n",
    "    report = (\n",
    "        Report(daily_raw_data)\n",
    "        .translate_Chinese_columns_into_English()\n",
    "        .parse_dir_symbol()\n",
    "        .add_minus_dir_symbol_to_change()\n",
    "        .replace_hypens_to_not_applicable()\n",
    "        .remove_comma_in_numbers()\n",
    "        .remove_unused_information()\n",
    "        .add_date()\n",
    "        .data\n",
    "        .fillna(\"\")\n",
    "    )\n",
    "    return report"
   ]
  },
  {
   "cell_type": "code",
   "execution_count": 5,
   "id": "39f7b768",
   "metadata": {
    "ExecuteTime": {
     "end_time": "2022-05-27T12:02:35.266244Z",
     "start_time": "2022-05-27T12:02:35.262004Z"
    }
   },
   "outputs": [],
   "source": [
    "def check_report(data: pd.DataFrame) -> pd.DataFrame:\n",
    "    data_dict = data.to_dict('records')\n",
    "    df_schema = [\n",
    "        StockSchema(**elements).__dict__\n",
    "        for elements in data_dict\n",
    "    ]\n",
    "    results = pd.DataFrame(df_schema)\n",
    "    return results"
   ]
  },
  {
   "cell_type": "markdown",
   "id": "c0f81499",
   "metadata": {},
   "source": [
    "## save to csv"
   ]
  },
  {
   "cell_type": "code",
   "execution_count": 6,
   "id": "baa0fbaa",
   "metadata": {
    "ExecuteTime": {
     "end_time": "2022-05-27T12:02:35.272785Z",
     "start_time": "2022-05-27T12:02:35.269362Z"
    }
   },
   "outputs": [],
   "source": [
    "def save_daily_report(date, report):\n",
    "    report.to_csv(f'taiwan_stock_exchange_{date}.csv', index=False)"
   ]
  },
  {
   "cell_type": "markdown",
   "id": "6dc191b9",
   "metadata": {},
   "source": [
    "## Main\n",
    "remove baseexception\n",
    "1. too general\n",
    "2. all exception will be considered e.g.  string indices must be integers error in python"
   ]
  },
  {
   "cell_type": "code",
   "execution_count": 7,
   "id": "ff1362b6",
   "metadata": {
    "ExecuteTime": {
     "end_time": "2022-05-27T12:02:35.279915Z",
     "start_time": "2022-05-27T12:02:35.275511Z"
    }
   },
   "outputs": [],
   "source": [
    "def check_date(date):\n",
    "    date = datetime.datetime.strptime(date, '%Y-%m-%d')\n",
    "    weekday = date.weekday() + 1\n",
    "    no_data_date = datetime.datetime.strptime('2004-02-11', '%Y-%m-%d')\n",
    "    if date < no_data_date or weekday == 6 or weekday == 7:\n",
    "        return False\n",
    "    else:\n",
    "        return True"
   ]
  },
  {
   "cell_type": "code",
   "execution_count": 14,
   "id": "cb8bd3b3",
   "metadata": {
    "ExecuteTime": {
     "end_time": "2022-05-27T12:30:16.117009Z",
     "start_time": "2022-05-27T12:30:16.111201Z"
    }
   },
   "outputs": [],
   "source": [
    "def produce_daily_report(date):\n",
    "    flag = True\n",
    "    while flag:\n",
    "        try:\n",
    "            daily_raw_data = get_TWSE_daily_raw_data(date)\n",
    "            daily_report = create_daily_report(daily_raw_data)\n",
    "            report = check_report(daily_report)\n",
    "            save_daily_report(date, report)\n",
    "            flag = False\n",
    "            return report\n",
    "            \n",
    "        except JSONDecodeError:\n",
    "            logger.info('JSONDecodeError: Internet issue, retry until success')\n",
    "            time.sleep(30)\n",
    "\n",
    "        except KeyError:\n",
    "            logger.info(f'date:{date} => no data if date is before 2004-02-11 or date is Sunday or Saturdy')\n",
    "            flag = False\n",
    "            return pd.DataFrame()\n",
    "\n",
    "    "
   ]
  },
  {
   "cell_type": "code",
   "execution_count": 15,
   "id": "868732a8",
   "metadata": {
    "ExecuteTime": {
     "end_time": "2022-05-27T12:30:17.608873Z",
     "start_time": "2022-05-27T12:30:17.605212Z"
    },
    "scrolled": true
   },
   "outputs": [],
   "source": [
    "def main(start_date, end_date):\n",
    "    dates = Period(start_date, end_date).generate_dates_in_a_period()\n",
    "    for date in dates:\n",
    "        logger.info(f'start to product {date} report')\n",
    "        produce_daily_report(date)\n",
    "    "
   ]
  },
  {
   "cell_type": "code",
   "execution_count": null,
   "id": "2581f7d4",
   "metadata": {},
   "outputs": [],
   "source": []
  }
 ],
 "metadata": {
  "kernelspec": {
   "display_name": "fintech",
   "language": "python",
   "name": "fintech"
  },
  "language_info": {
   "codemirror_mode": {
    "name": "ipython",
    "version": 3
   },
   "file_extension": ".py",
   "mimetype": "text/x-python",
   "name": "python",
   "nbconvert_exporter": "python",
   "pygments_lexer": "ipython3",
   "version": "3.6.9"
  },
  "toc": {
   "base_numbering": 1,
   "nav_menu": {},
   "number_sections": true,
   "sideBar": true,
   "skip_h1_title": false,
   "title_cell": "Table of Contents",
   "title_sidebar": "Contents",
   "toc_cell": false,
   "toc_position": {
    "height": "calc(100% - 180px)",
    "left": "10px",
    "top": "150px",
    "width": "239px"
   },
   "toc_section_display": true,
   "toc_window_display": true
  }
 },
 "nbformat": 4,
 "nbformat_minor": 5
}
